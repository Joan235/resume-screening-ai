{
 "cells": [
  {
   "cell_type": "code",
   "execution_count": 7,
   "id": "89259747-3144-4c08-9d5e-e002c67aafbe",
   "metadata": {},
   "outputs": [
    {
     "name": "stdout",
     "output_type": "stream",
     "text": [
      "<class 'pandas.core.frame.DataFrame'>\n",
      "RangeIndex: 962 entries, 0 to 961\n",
      "Data columns (total 2 columns):\n",
      " #   Column    Non-Null Count  Dtype \n",
      "---  ------    --------------  ----- \n",
      " 0   Category  962 non-null    object\n",
      " 1   Resume    962 non-null    object\n",
      "dtypes: object(2)\n",
      "memory usage: 15.2+ KB\n"
     ]
    },
    {
     "data": {
      "text/plain": [
       "Category\n",
       "Java Developer               84\n",
       "Testing                      70\n",
       "DevOps Engineer              55\n",
       "Python Developer             48\n",
       "Web Designing                45\n",
       "HR                           44\n",
       "Hadoop                       42\n",
       "Sales                        40\n",
       "Data Science                 40\n",
       "Mechanical Engineer          40\n",
       "ETL Developer                40\n",
       "Blockchain                   40\n",
       "Operations Manager           40\n",
       "Arts                         36\n",
       "Database                     33\n",
       "Health and fitness           30\n",
       "PMO                          30\n",
       "Electrical Engineering       30\n",
       "Business Analyst             28\n",
       "DotNet Developer             28\n",
       "Automation Testing           26\n",
       "Network Security Engineer    25\n",
       "Civil Engineer               24\n",
       "SAP Developer                24\n",
       "Advocate                     20\n",
       "Name: count, dtype: int64"
      ]
     },
     "execution_count": 7,
     "metadata": {},
     "output_type": "execute_result"
    }
   ],
   "source": [
    "import pandas as pd\n",
    "\n",
    "df = pd.read_csv(r\"C:\\Users\\Fafure J\\Documents\\Resume_Screening_AI\\UpdatedResumeDataSet.csv\") \n",
    "\n",
    "df.head()\n",
    "\n",
    "df.info()\n",
    "\n",
    "df['Category'].value_counts()"
   ]
  },
  {
   "cell_type": "code",
   "execution_count": 8,
   "id": "3b1a4c96-a4ed-44a8-9ffb-1d03e3e257fd",
   "metadata": {},
   "outputs": [
    {
     "name": "stdout",
     "output_type": "stream",
     "text": [
      "Collecting nltk\n",
      "  Downloading nltk-3.9.1-py3-none-any.whl.metadata (2.9 kB)\n",
      "Requirement already satisfied: click in c:\\users\\fafure j\\appdata\\local\\programs\\python\\python313\\lib\\site-packages (from nltk) (8.1.8)\n",
      "Requirement already satisfied: joblib in c:\\users\\fafure j\\appdata\\local\\programs\\python\\python313\\lib\\site-packages (from nltk) (1.4.2)\n",
      "Collecting regex>=2021.8.3 (from nltk)\n",
      "  Downloading regex-2025.7.34-cp313-cp313-win_amd64.whl.metadata (41 kB)\n",
      "Collecting tqdm (from nltk)\n",
      "  Downloading tqdm-4.67.1-py3-none-any.whl.metadata (57 kB)\n",
      "Requirement already satisfied: colorama in c:\\users\\fafure j\\appdata\\local\\programs\\python\\python313\\lib\\site-packages (from click->nltk) (0.4.6)\n",
      "Downloading nltk-3.9.1-py3-none-any.whl (1.5 MB)\n",
      "   ---------------------------------------- 0.0/1.5 MB ? eta -:--:--\n",
      "   ---------------------------------------- 0.0/1.5 MB ? eta -:--:--\n",
      "   ---------------------------------------- 0.0/1.5 MB ? eta -:--:--\n",
      "   ---------------------------------------- 0.0/1.5 MB ? eta -:--:--\n",
      "   ---------------------------------------- 0.0/1.5 MB ? eta -:--:--\n",
      "   ---------------------------------------- 0.0/1.5 MB ? eta -:--:--\n",
      "   ---------------------------------------- 0.0/1.5 MB ? eta -:--:--\n",
      "   ---------------------------------------- 0.0/1.5 MB ? eta -:--:--\n",
      "   ---------------------------------------- 0.0/1.5 MB ? eta -:--:--\n",
      "   ---------------------------------------- 0.0/1.5 MB ? eta -:--:--\n",
      "   ---------------------------------------- 0.0/1.5 MB ? eta -:--:--\n",
      "   ---------------------------------------- 0.0/1.5 MB ? eta -:--:--\n",
      "   ---------------------------------------- 0.0/1.5 MB ? eta -:--:--\n",
      "   ---------------------------------------- 0.0/1.5 MB ? eta -:--:--\n",
      "   ---------------------------------------- 0.0/1.5 MB ? eta -:--:--\n",
      "   ---------------------------------------- 0.0/1.5 MB ? eta -:--:--\n",
      "   ------ --------------------------------- 0.3/1.5 MB ? eta -:--:--\n",
      "   ------ --------------------------------- 0.3/1.5 MB ? eta -:--:--\n",
      "   ------ --------------------------------- 0.3/1.5 MB ? eta -:--:--\n",
      "   ------ --------------------------------- 0.3/1.5 MB ? eta -:--:--\n",
      "   ------ --------------------------------- 0.3/1.5 MB ? eta -:--:--\n",
      "   ------ --------------------------------- 0.3/1.5 MB ? eta -:--:--\n",
      "   ------ --------------------------------- 0.3/1.5 MB ? eta -:--:--\n",
      "   ------ --------------------------------- 0.3/1.5 MB ? eta -:--:--\n",
      "   ------ --------------------------------- 0.3/1.5 MB ? eta -:--:--\n",
      "   ------ --------------------------------- 0.3/1.5 MB ? eta -:--:--\n",
      "   ------ --------------------------------- 0.3/1.5 MB ? eta -:--:--\n",
      "   ------ --------------------------------- 0.3/1.5 MB ? eta -:--:--\n",
      "   ------ --------------------------------- 0.3/1.5 MB ? eta -:--:--\n",
      "   ------------- -------------------------- 0.5/1.5 MB 98.9 kB/s eta 0:00:10\n",
      "   ------------- -------------------------- 0.5/1.5 MB 98.9 kB/s eta 0:00:10\n",
      "   ------------- -------------------------- 0.5/1.5 MB 98.9 kB/s eta 0:00:10\n",
      "   ------------- -------------------------- 0.5/1.5 MB 98.9 kB/s eta 0:00:10\n",
      "   ------------- -------------------------- 0.5/1.5 MB 98.9 kB/s eta 0:00:10\n",
      "   ------------- -------------------------- 0.5/1.5 MB 98.9 kB/s eta 0:00:10\n",
      "   ------------- -------------------------- 0.5/1.5 MB 98.9 kB/s eta 0:00:10\n",
      "   ------------- -------------------------- 0.5/1.5 MB 98.9 kB/s eta 0:00:10\n",
      "   -------------------- ------------------- 0.8/1.5 MB 120.2 kB/s eta 0:00:06\n",
      "   -------------------- ------------------- 0.8/1.5 MB 120.2 kB/s eta 0:00:06\n",
      "   -------------------- ------------------- 0.8/1.5 MB 120.2 kB/s eta 0:00:06\n",
      "   -------------------- ------------------- 0.8/1.5 MB 120.2 kB/s eta 0:00:06\n",
      "   -------------------- ------------------- 0.8/1.5 MB 120.2 kB/s eta 0:00:06\n",
      "   --------------------------- ------------ 1.0/1.5 MB 140.9 kB/s eta 0:00:04\n",
      "   --------------------------- ------------ 1.0/1.5 MB 140.9 kB/s eta 0:00:04\n",
      "   --------------------------- ------------ 1.0/1.5 MB 140.9 kB/s eta 0:00:04\n",
      "   --------------------------- ------------ 1.0/1.5 MB 140.9 kB/s eta 0:00:04\n",
      "   --------------------------- ------------ 1.0/1.5 MB 140.9 kB/s eta 0:00:04\n",
      "   --------------------------- ------------ 1.0/1.5 MB 140.9 kB/s eta 0:00:04\n",
      "   --------------------------- ------------ 1.0/1.5 MB 140.9 kB/s eta 0:00:04\n",
      "   ---------------------------------- ----- 1.3/1.5 MB 150.7 kB/s eta 0:00:02\n",
      "   ---------------------------------- ----- 1.3/1.5 MB 150.7 kB/s eta 0:00:02\n",
      "   ---------------------------------- ----- 1.3/1.5 MB 150.7 kB/s eta 0:00:02\n",
      "   ---------------------------------- ----- 1.3/1.5 MB 150.7 kB/s eta 0:00:02\n",
      "   ---------------------------------------- 1.5/1.5 MB 159.4 kB/s eta 0:00:00\n",
      "Downloading regex-2025.7.34-cp313-cp313-win_amd64.whl (275 kB)\n",
      "Downloading tqdm-4.67.1-py3-none-any.whl (78 kB)\n",
      "Installing collected packages: tqdm, regex, nltk\n",
      "Successfully installed nltk-3.9.1 regex-2025.7.34 tqdm-4.67.1\n",
      "Note: you may need to restart the kernel to use updated packages.\n"
     ]
    },
    {
     "name": "stderr",
     "output_type": "stream",
     "text": [
      "\n",
      "[notice] A new release of pip is available: 25.0.1 -> 25.2\n",
      "[notice] To update, run: python.exe -m pip install --upgrade pip\n"
     ]
    }
   ],
   "source": [
    "pip install nltk\n"
   ]
  },
  {
   "cell_type": "code",
   "execution_count": 10,
   "id": "af521f97-fd63-41f8-9f3e-f51f60ba428a",
   "metadata": {},
   "outputs": [
    {
     "data": {
      "text/html": [
       "<div>\n",
       "<style scoped>\n",
       "    .dataframe tbody tr th:only-of-type {\n",
       "        vertical-align: middle;\n",
       "    }\n",
       "\n",
       "    .dataframe tbody tr th {\n",
       "        vertical-align: top;\n",
       "    }\n",
       "\n",
       "    .dataframe thead th {\n",
       "        text-align: right;\n",
       "    }\n",
       "</style>\n",
       "<table border=\"1\" class=\"dataframe\">\n",
       "  <thead>\n",
       "    <tr style=\"text-align: right;\">\n",
       "      <th></th>\n",
       "      <th>Resume</th>\n",
       "      <th>Cleaned_Resume</th>\n",
       "    </tr>\n",
       "  </thead>\n",
       "  <tbody>\n",
       "    <tr>\n",
       "      <th>0</th>\n",
       "      <td>Skills * Programming Languages: Python (pandas...</td>\n",
       "      <td>skills programming languages python pandas num...</td>\n",
       "    </tr>\n",
       "    <tr>\n",
       "      <th>1</th>\n",
       "      <td>Education Details \\r\\nMay 2013 to May 2017 B.E...</td>\n",
       "      <td>education details may may b e uit rgpv data sc...</td>\n",
       "    </tr>\n",
       "    <tr>\n",
       "      <th>2</th>\n",
       "      <td>Areas of Interest Deep Learning, Control Syste...</td>\n",
       "      <td>areas interest deep learning control system de...</td>\n",
       "    </tr>\n",
       "    <tr>\n",
       "      <th>3</th>\n",
       "      <td>Skills â¢ R â¢ Python â¢ SAP HANA â¢ Table...</td>\n",
       "      <td>skills r python sap hana tableau sap hana sql ...</td>\n",
       "    </tr>\n",
       "    <tr>\n",
       "      <th>4</th>\n",
       "      <td>Education Details \\r\\n MCA   YMCAUST,  Faridab...</td>\n",
       "      <td>education details mca ymcaust faridabad haryan...</td>\n",
       "    </tr>\n",
       "  </tbody>\n",
       "</table>\n",
       "</div>"
      ],
      "text/plain": [
       "                                              Resume  \\\n",
       "0  Skills * Programming Languages: Python (pandas...   \n",
       "1  Education Details \\r\\nMay 2013 to May 2017 B.E...   \n",
       "2  Areas of Interest Deep Learning, Control Syste...   \n",
       "3  Skills â¢ R â¢ Python â¢ SAP HANA â¢ Table...   \n",
       "4  Education Details \\r\\n MCA   YMCAUST,  Faridab...   \n",
       "\n",
       "                                      Cleaned_Resume  \n",
       "0  skills programming languages python pandas num...  \n",
       "1  education details may may b e uit rgpv data sc...  \n",
       "2  areas interest deep learning control system de...  \n",
       "3  skills r python sap hana tableau sap hana sql ...  \n",
       "4  education details mca ymcaust faridabad haryan...  "
      ]
     },
     "execution_count": 10,
     "metadata": {},
     "output_type": "execute_result"
    }
   ],
   "source": [
    "import re\n",
    "\n",
    "# Manually define stopwords (basic list)\n",
    "stop_words = set([\n",
    "    'a','about','above','after','again','against','all','am','an','and','any',\n",
    "    'are','as','at','be','because','been','before','being','below','between',\n",
    "    'both','but','by','can','could','did','do','does','doing','down','during',\n",
    "    'each','few','for','from','further','had','has','have','having','he','her',\n",
    "    'here','hers','herself','him','himself','his','how','i','if','in','into',\n",
    "    'is','it','its','itself','just','me','more','most','my','myself','no','nor',\n",
    "    'not','now','of','off','on','once','only','or','other','our','ours',\n",
    "    'ourselves','out','over','own','same','she','should','so','some','such',\n",
    "    'than','that','the','their','theirs','them','themselves','then','there',\n",
    "    'these','they','this','those','through','to','too','under','until','up',\n",
    "    'very','was','we','were','what','when','where','which','while','who','whom',\n",
    "    'why','will','with','you','your','yours','yourself','yourselves'\n",
    "])\n",
    "\n",
    "# Cleaning function\n",
    "def clean_text(text):\n",
    "    text = re.sub(r'[^a-zA-Z]', ' ', text)  # remove numbers/special characters\n",
    "    text = text.lower()\n",
    "    words = text.split()\n",
    "    words = [w for w in words if w not in stop_words]\n",
    "    return ' '.join(words)\n",
    "\n",
    "# Apply cleaning\n",
    "df['Cleaned_Resume'] = df['Resume'].apply(clean_text)\n",
    "\n",
    "# Show cleaned text\n",
    "df[['Resume','Cleaned_Resume']].head()\n",
    "\n"
   ]
  },
  {
   "cell_type": "code",
   "execution_count": 12,
   "id": "dcb891dd-5a62-4bf2-8d06-ec5df0309a67",
   "metadata": {},
   "outputs": [],
   "source": [
    "from sklearn.feature_extraction.text import TfidfVectorizer\n",
    "\n",
    "# Create TF-IDF vectorizer\n",
    "tfidf = TfidfVectorizer(max_features=3000)  # limit to 3000 features to avoid memory issues\n",
    "\n",
    "# Fit and transform cleaned resumes\n",
    "X = tfidf.fit_transform(df['Cleaned_Resume']).toarray()\n",
    "\n",
    "# Labels\n",
    "y = df['Category']\n"
   ]
  },
  {
   "cell_type": "code",
   "execution_count": 13,
   "id": "9762cbf6-5284-4a6d-a119-b042f0441688",
   "metadata": {},
   "outputs": [],
   "source": [
    "from sklearn.model_selection import train_test_split\n",
    "\n",
    "X_train, X_test, y_train, y_test = train_test_split(X, y, test_size=0.2, random_state=42)\n"
   ]
  },
  {
   "cell_type": "code",
   "execution_count": 14,
   "id": "0797f532-6d8b-43ef-b185-0dcc9eede976",
   "metadata": {},
   "outputs": [
    {
     "name": "stdout",
     "output_type": "stream",
     "text": [
      "Accuracy: 0.9792746113989638\n",
      "\n",
      "Classification Report:\n",
      "                            precision    recall  f1-score   support\n",
      "\n",
      "                 Advocate       1.00      0.33      0.50         3\n",
      "                     Arts       1.00      1.00      1.00         6\n",
      "       Automation Testing       1.00      1.00      1.00         5\n",
      "               Blockchain       1.00      1.00      1.00         7\n",
      "         Business Analyst       1.00      1.00      1.00         4\n",
      "           Civil Engineer       1.00      1.00      1.00         9\n",
      "             Data Science       1.00      1.00      1.00         5\n",
      "                 Database       1.00      1.00      1.00         8\n",
      "          DevOps Engineer       1.00      0.93      0.96        14\n",
      "         DotNet Developer       1.00      1.00      1.00         5\n",
      "            ETL Developer       1.00      1.00      1.00         7\n",
      "   Electrical Engineering       1.00      1.00      1.00         6\n",
      "                       HR       1.00      0.92      0.96        12\n",
      "                   Hadoop       1.00      1.00      1.00         4\n",
      "       Health and fitness       1.00      1.00      1.00         7\n",
      "           Java Developer       0.83      1.00      0.91        15\n",
      "      Mechanical Engineer       1.00      1.00      1.00         8\n",
      "Network Security Engineer       1.00      1.00      1.00         3\n",
      "       Operations Manager       1.00      1.00      1.00        12\n",
      "                      PMO       0.88      1.00      0.93         7\n",
      "         Python Developer       1.00      1.00      1.00        10\n",
      "            SAP Developer       1.00      1.00      1.00         7\n",
      "                    Sales       1.00      1.00      1.00         8\n",
      "                  Testing       1.00      1.00      1.00        16\n",
      "            Web Designing       1.00      1.00      1.00         5\n",
      "\n",
      "                 accuracy                           0.98       193\n",
      "                macro avg       0.99      0.97      0.97       193\n",
      "             weighted avg       0.98      0.98      0.98       193\n",
      "\n"
     ]
    }
   ],
   "source": [
    "from sklearn.naive_bayes import MultinomialNB\n",
    "from sklearn.metrics import accuracy_score, classification_report\n",
    "\n",
    "# Initialize and train model\n",
    "nb_model = MultinomialNB()\n",
    "nb_model.fit(X_train, y_train)\n",
    "\n",
    "# Predictions\n",
    "y_pred = nb_model.predict(X_test)\n",
    "\n",
    "# Evaluate\n",
    "print(\"Accuracy:\", accuracy_score(y_test, y_pred))\n",
    "print(\"\\nClassification Report:\\n\", classification_report(y_test, y_pred))\n"
   ]
  },
  {
   "cell_type": "code",
   "execution_count": 15,
   "id": "27f5e429-6a6b-4f48-aa09-803d0ec99c44",
   "metadata": {},
   "outputs": [
    {
     "data": {
      "text/plain": [
       "['tfidf.pkl']"
      ]
     },
     "execution_count": 15,
     "metadata": {},
     "output_type": "execute_result"
    }
   ],
   "source": [
    "import joblib\n",
    "\n",
    "joblib.dump(nb_model, \"resume_model.pkl\", compress=3)\n",
    "joblib.dump(tfidf, \"tfidf.pkl\", compress=3)\n"
   ]
  },
  {
   "cell_type": "code",
   "execution_count": 16,
   "id": "93c0dbf4-c4b6-4d06-9881-4369abbc56df",
   "metadata": {},
   "outputs": [
    {
     "name": "stdout",
     "output_type": "stream",
     "text": [
      "Collecting PyPDF2\n",
      "  Downloading pypdf2-3.0.1-py3-none-any.whl.metadata (6.8 kB)\n",
      "Downloading pypdf2-3.0.1-py3-none-any.whl (232 kB)\n",
      "Installing collected packages: PyPDF2\n",
      "Successfully installed PyPDF2-3.0.1\n",
      "Note: you may need to restart the kernel to use updated packages.\n"
     ]
    },
    {
     "name": "stderr",
     "output_type": "stream",
     "text": [
      "\n",
      "[notice] A new release of pip is available: 25.0.1 -> 25.2\n",
      "[notice] To update, run: python.exe -m pip install --upgrade pip\n"
     ]
    }
   ],
   "source": [
    "pip install PyPDF2\n"
   ]
  },
  {
   "cell_type": "code",
   "execution_count": null,
   "id": "36eb3990-39a0-457d-9de3-cd9bc215f6e1",
   "metadata": {},
   "outputs": [],
   "source": []
  }
 ],
 "metadata": {
  "kernelspec": {
   "display_name": "Python 3 (ipykernel)",
   "language": "python",
   "name": "python3"
  },
  "language_info": {
   "codemirror_mode": {
    "name": "ipython",
    "version": 3
   },
   "file_extension": ".py",
   "mimetype": "text/x-python",
   "name": "python",
   "nbconvert_exporter": "python",
   "pygments_lexer": "ipython3",
   "version": "3.13.2"
  }
 },
 "nbformat": 4,
 "nbformat_minor": 5
}
